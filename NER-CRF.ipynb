{
 "cells": [
  {
   "cell_type": "code",
   "execution_count": 14,
   "metadata": {},
   "outputs": [],
   "source": [
    "#CRF approach for eCommerce NER\n",
    "#HMM project\n",
    "%matplotlib inline\n",
    "import matplotlib.pyplot as plt\n",
    "plt.style.use('ggplot')"
   ]
  },
  {
   "cell_type": "code",
   "execution_count": 15,
   "metadata": {},
   "outputs": [
    {
     "name": "stdout",
     "output_type": "stream",
     "text": [
      "Requirement already up-to-date: pip in /home/ec2-user/anaconda3/envs/python3/lib/python3.6/site-packages (18.1)\n",
      "Requirement already satisfied: sklearn_crfsuite in /home/ec2-user/anaconda3/envs/python3/lib/python3.6/site-packages (0.3.6)\n",
      "Requirement already satisfied: tqdm>=2.0 in /home/ec2-user/anaconda3/envs/python3/lib/python3.6/site-packages (from sklearn_crfsuite) (4.28.1)\n",
      "Requirement already satisfied: python-crfsuite>=0.8.3 in /home/ec2-user/anaconda3/envs/python3/lib/python3.6/site-packages (from sklearn_crfsuite) (0.9.6)\n",
      "Requirement already satisfied: six in /home/ec2-user/anaconda3/envs/python3/lib/python3.6/site-packages (from sklearn_crfsuite) (1.11.0)\n",
      "Requirement already satisfied: tabulate in /home/ec2-user/anaconda3/envs/python3/lib/python3.6/site-packages (from sklearn_crfsuite) (0.8.2)\n"
     ]
    }
   ],
   "source": [
    "#Install packages for the analysys\n",
    "!pip install --upgrade pip\n",
    "!pip install sklearn_crfsuite\n"
   ]
  },
  {
   "cell_type": "code",
   "execution_count": 16,
   "metadata": {},
   "outputs": [
    {
     "name": "stdout",
     "output_type": "stream",
     "text": [
      "[nltk_data] Downloading package punkt to /home/ec2-user/nltk_data...\n",
      "[nltk_data]   Package punkt is already up-to-date!\n",
      "[nltk_data] Downloading package averaged_perceptron_tagger to\n",
      "[nltk_data]     /home/ec2-user/nltk_data...\n",
      "[nltk_data]   Package averaged_perceptron_tagger is already up-to-\n",
      "[nltk_data]       date!\n",
      "0.19.1\n"
     ]
    }
   ],
   "source": [
    "#Import libraries to complete the task\n",
    "from itertools import chain\n",
    "import nltk\n",
    "from sklearn.metrics import classification_report, confusion_matrix\n",
    "from sklearn.preprocessing import LabelBinarizer\n",
    "import sklearn\n",
    "#import pycrfsuite\n",
    "\n",
    "import scipy.stats\n",
    "\n",
    "from sklearn.metrics import make_scorer\n",
    "from sklearn.cross_validation import cross_val_score\n",
    "from sklearn.grid_search import RandomizedSearchCV\n",
    "\n",
    "import sklearn_crfsuite\n",
    "from sklearn_crfsuite import scorers\n",
    "from sklearn_crfsuite import metrics\n",
    "import sklearn_crfsuite\n",
    "from sklearn_crfsuite import scorers\n",
    "from sklearn_crfsuite import metrics\n",
    "\n",
    "\n",
    "import boto3\n",
    "from boto.s3.key import Key\n",
    "import timeit\n",
    "from io import StringIO\n",
    "import json\n",
    "import pandas as pd\n",
    "import numpy as np\n",
    "nltk.download('punkt')\n",
    "nltk.download('averaged_perceptron_tagger')\n",
    "\n",
    "print(sklearn.__version__)"
   ]
  },
  {
   "cell_type": "code",
   "execution_count": 17,
   "metadata": {},
   "outputs": [
    {
     "name": "stdout",
     "output_type": "stream",
     "text": [
      "8163\n",
      "Before dedupe= 8163 After dedupe= 3914\n"
     ]
    }
   ],
   "source": [
    "# Load data from S3 package and make parsing\n",
    "\n",
    "bucket_name = 'masidorov.cs229.ner'\n",
    "data_file_name = 'all-items-2sets.json'\n",
    "\n",
    "\n",
    "s3 = boto3.resource('s3')\n",
    "bucket = s3.Bucket(bucket_name)\n",
    "\n",
    "data_lines = []\n",
    "obj = bucket.Object(data_file_name)\n",
    "body = obj.get()['Body'].read().splitlines()\n",
    "data_lines = body\n",
    "print(len(data_lines))\n",
    "\n",
    "INDEX_ID = 0\n",
    "INDEX_TAGGED = 1\n",
    "INDEX_TEXT = 2\n",
    "INDEX_ANNOTATION = 3\n",
    "\n",
    "# Annotation constants\n",
    "ANNOTATION_LABEL = 0\n",
    "ANNOTATION_TEXT = 1\n",
    "ANNOTATION_POINTS = 2\n",
    "\n",
    "ANNOTATION_POINTS_START = 1\n",
    "ANNOTATION_POINTS_STOP = 2\n",
    "\n",
    "# structure we do support:\n",
    "# (tagged, text, annotations)\n",
    "# annotations = [annotation]\n",
    "# annotation := (label, text, start, stop)\n",
    "contents = []\n",
    "\n",
    "id = 0\n",
    "for line in data_lines:\n",
    "    dat = json.loads(line)\n",
    "    content = dat[\"content\"]\n",
    "    tuple_annotations = []\n",
    "    annotations = dat[\"annotation\"]\n",
    "    tagged = False\n",
    "    if (annotations is not None):\n",
    "        tagged = True\n",
    "        for annotation in annotations:\n",
    "            label = annotation[\"label\"][0]\n",
    "            points = annotation[\"points\"]\n",
    "            tuple_annotation = (label)\n",
    "            \n",
    "            tuple_points = []\n",
    "            for point in points:\n",
    "                text = point[\"text\"]\n",
    "                start = point[\"start\"]\n",
    "                stop = point[\"end\"]\n",
    "                tuple_points.append((text, start, stop))\n",
    "            tuple_annotations.append((label,text, tuple_points))\n",
    "    contents.append((id, tagged, content, tuple_annotations))\n",
    "    id = id + 1\n",
    "    \n",
    "    \n",
    "#DEDUPLICATION\n",
    "content2tag = {}\n",
    "for tuple in contents:\n",
    "    tagged = tuple[INDEX_TAGGED]\n",
    "    text = tuple[INDEX_TEXT]\n",
    "    if text not in content2tag.keys():\n",
    "        content2tag[text] = tagged\n",
    "    if (not content2tag[text]) and tagged:\n",
    "        content2tag[text] = tagged\n",
    "        \n",
    "visited = {}\n",
    "dedupe_context = []\n",
    "for tuple in contents:\n",
    "    tagged = tuple[INDEX_TAGGED]\n",
    "    text = tuple[INDEX_TEXT]\n",
    "    \n",
    "    if text in visited.keys():\n",
    "        continue\n",
    "    \n",
    "    if (content2tag[text] == tagged):\n",
    "        visited[text] = True\n",
    "        dedupe_context.append(tuple)\n",
    "        \n",
    "print(\"Before dedupe=\", len(contents), \"After dedupe=\", len(dedupe_context))\n",
    "contents = dedupe_context"
   ]
  },
  {
   "cell_type": "code",
   "execution_count": 18,
   "metadata": {},
   "outputs": [
    {
     "name": "stdout",
     "output_type": "stream",
     "text": [
      "Total size of set= 1753 TrainSet Size= 1630 Dev test size= 123\n"
     ]
    }
   ],
   "source": [
    "# Now we create 2 lists for analysis per each record \n",
    "# word list: [w1,w2,...]\n",
    "# tagging: [tag1, tag2,...] we assume that we have 1 tag per word\n",
    "# Method we iterate via contents, for each line:\n",
    "# 1) Extract text and extract intervals\n",
    "# 2) scan in text words and for each word try to find start match in annotation list\n",
    "\n",
    "# CONSTANTS WE USE\n",
    "TUPLE_ID = 0\n",
    "TUPLE_TAGGED_ID = 1\n",
    "TUPLE_WORD_LIST = 2\n",
    "TUPLE_TAG_LIST = 3\n",
    "\n",
    "# Extraction of the tagged entities\n",
    "def find_tag(start, stop, annotations):\n",
    "    for annotation in annotations:\n",
    "        points = annotation[ANNOTATION_POINTS]\n",
    "        #print(\"Annot=\", points)\n",
    "        point = points[0]\n",
    "        astart = point[ANNOTATION_POINTS_START]\n",
    "        astop = point[ANNOTATION_POINTS_STOP]\n",
    "        \n",
    "        if (start == astart):\n",
    "            return annotation[ANNOTATION_LABEL]\n",
    "        \n",
    "    return \"\"\n",
    "    \n",
    "\n",
    "# This function is doing a data processing\n",
    "def process_tuple(content):\n",
    "    id = content[INDEX_ID]\n",
    "    tagged = content[INDEX_TAGGED]\n",
    "    text = content[INDEX_TEXT]\n",
    "    \n",
    "    words = []\n",
    "    tags = []\n",
    "    pos_tags = []\n",
    "    \n",
    "    annotations = content[INDEX_ANNOTATION]\n",
    "    start = 0\n",
    "    stop = 0\n",
    "    for i in range(len(text) + 1):\n",
    "        if (i == len(text)) or text[i] == ' ':\n",
    "            stop = i\n",
    "            wlen = stop - start\n",
    "            \n",
    "            if wlen > 0:\n",
    "                tag = find_tag(start, stop, annotations)\n",
    "                word = text[start:stop]\n",
    "                word_tokens = nltk.word_tokenize(word)\n",
    "                word_pos_tags = nltk.pos_tag(word_tokens)\n",
    "                words.append(word)\n",
    "                tags.append(tag)\n",
    "                word_pos_tag = word_pos_tags[0][1]\n",
    "                pos_tags.append(word_pos_tag)\n",
    "\n",
    "            start = stop + 1\n",
    "    \n",
    "    return (id, tagged, words, tags, pos_tags)\n",
    "\n",
    "\n",
    "# We investigate the structure of ptuple and ann\n",
    "# price like \"under $300\"\n",
    "# price like \"$300 after discount\"\n",
    "# \"item under discount\" item \"for $300\"\n",
    "def augment_tuple(ptuple):\n",
    "    \n",
    "    return ptuple\n",
    "\n",
    "pcontents = [process_tuple(content) for content in contents]\n",
    "\n",
    "# Prepare query corpus in CRF-ready format\n",
    "query_corpus = [ [x for x in zip(query[2], query[4], query[3])]  for query in pcontents if query[TUPLE_TAGGED_ID] == True]\n",
    "\n",
    "# Prepare training and test set\n",
    "ROW_TAGGED = len(query_corpus)\n",
    "train_set_index= np.random.choice(ROW_TAGGED, size=int(ROW_TAGGED*0.93), replace=False)\n",
    "dev_set_index = list(set(range(ROW_TAGGED)) - set(train_set_index))\n",
    "train_set = [query_corpus[i] for i in train_set_index]\n",
    "dev_set = [query_corpus[i] for i in dev_set_index]\n",
    "\n",
    "\n",
    "print('Total size of set=', len(query_corpus), 'TrainSet Size=', len(train_set), 'Dev test size=', len(dev_set))"
   ]
  },
  {
   "cell_type": "code",
   "execution_count": 19,
   "metadata": {},
   "outputs": [],
   "source": [
    "# Features extraction logic\n",
    "# Note: code copied from source: https://sklearn-crfsuite.readthedocs.io/en/latest/tutorial.html \n",
    "\n",
    "def word2features(sent, i):\n",
    "    word = sent[i][0]\n",
    "    postag = sent[i][1]\n",
    "\n",
    "    features = {\n",
    "        'bias': 1.0,\n",
    "        'word.lower()': word.lower(),\n",
    "        'word[-3:]': word[-3:],\n",
    "        'word[-2:]': word[-2:],\n",
    "        'word.isupper()': word.isupper(),\n",
    "        'word.istitle()': word.istitle(),\n",
    "        'word.isdigit()': word.isdigit(),\n",
    "        'postag': postag,\n",
    "        'postag[:2]': postag[:2],\n",
    "    }\n",
    "    if i > 0:\n",
    "        word1 = sent[i-1][0]\n",
    "        postag1 = sent[i-1][1]\n",
    "        features.update({\n",
    "            '-1:word.lower()': word1.lower(),\n",
    "            '-1:word.istitle()': word1.istitle(),\n",
    "            '-1:word.isupper()': word1.isupper(),\n",
    "            '-1:postag': postag1,\n",
    "            '-1:postag[:2]': postag1[:2],\n",
    "        })\n",
    "    else:\n",
    "        features['BOS'] = True\n",
    "\n",
    "    if i < len(sent)-1:\n",
    "        word1 = sent[i+1][0]\n",
    "        postag1 = sent[i+1][1]\n",
    "        features.update({\n",
    "            '+1:word.lower()': word1.lower(),\n",
    "            '+1:word.istitle()': word1.istitle(),\n",
    "            '+1:word.isupper()': word1.isupper(),\n",
    "            '+1:postag': postag1,\n",
    "            '+1:postag[:2]': postag1[:2],\n",
    "        })\n",
    "    else:\n",
    "        features['EOS'] = True\n",
    "\n",
    "    return features\n",
    "\n",
    "\n",
    "def sent2features(sent):\n",
    "    return [word2features(sent, i) for i in range(len(sent))]\n",
    "\n",
    "def sent2labels(sent):\n",
    "    return [label for token, postag, label in sent]\n",
    "\n",
    "def sent2tokens(sent):\n",
    "    return [token for token, postag, label in sent]\n",
    "\n"
   ]
  },
  {
   "cell_type": "code",
   "execution_count": 7,
   "metadata": {},
   "outputs": [
    {
     "name": "stdout",
     "output_type": "stream",
     "text": [
      "CPU times: user 7.56 ms, sys: 3.9 ms, total: 11.5 ms\n",
      "Wall time: 11.4 ms\n"
     ]
    }
   ],
   "source": [
    "%%time \n",
    "# Features extraction \n",
    "\n",
    "X_train = [sent2features(s) for s in train_set]\n",
    "y_train = [sent2labels(s) for s in train_set]\n",
    "\n",
    "X_test = [sent2features(s) for s in dev_set]\n",
    "y_test = [sent2labels(s) for s in dev_set]"
   ]
  },
  {
   "cell_type": "code",
   "execution_count": 20,
   "metadata": {},
   "outputs": [
    {
     "name": "stdout",
     "output_type": "stream",
     "text": [
      "CPU times: user 425 ms, sys: 218 µs, total: 425 ms\n",
      "Wall time: 425 ms\n"
     ]
    }
   ],
   "source": [
    "%%time\n",
    "crf = sklearn_crfsuite.CRF(\n",
    "    algorithm='lbfgs',\n",
    "    c1=0.1,\n",
    "    c2=0.1,\n",
    "    max_iterations=100,\n",
    "    all_possible_transitions=True\n",
    ")\n",
    "crf.fit(X_train, y_train)"
   ]
  },
  {
   "cell_type": "code",
   "execution_count": 21,
   "metadata": {},
   "outputs": [
    {
     "name": "stderr",
     "output_type": "stream",
     "text": [
      "/home/ec2-user/anaconda3/envs/python3/lib/python3.6/site-packages/sklearn/metrics/classification.py:1137: UndefinedMetricWarning: F-score is ill-defined and being set to 0.0 in labels with no true samples.\n",
      "  'recall', 'true', average, warn_for)\n"
     ]
    },
    {
     "data": {
      "text/plain": [
       "0.5709174344830268"
      ]
     },
     "execution_count": 21,
     "metadata": {},
     "output_type": "execute_result"
    }
   ],
   "source": [
    "labels = list(crf.classes_)\n",
    "y_pred = crf.predict(X_test)\n",
    "metrics.flat_f1_score(y_test, y_pred,\n",
    "                      average='weighted', labels=labels)"
   ]
  },
  {
   "cell_type": "code",
   "execution_count": 22,
   "metadata": {},
   "outputs": [
    {
     "name": "stdout",
     "output_type": "stream",
     "text": [
      "             precision    recall  f1-score   support\n",
      "\n",
      "    Storage      0.000     0.000     0.000         4\n",
      "                 0.484     0.455     0.469        66\n",
      "  ModelName      0.593     0.718     0.650        71\n",
      "      Brand      0.800     0.636     0.709        44\n",
      "   Category      0.612     0.723     0.663        83\n",
      " ScreenSize      0.000     0.000     0.000        11\n",
      "        RAM      0.000     0.000     0.000         7\n",
      "      Price      0.000     0.000     0.000         0\n",
      "\n",
      "avg / total      0.560     0.591     0.571       286\n",
      "\n"
     ]
    },
    {
     "name": "stderr",
     "output_type": "stream",
     "text": [
      "/home/ec2-user/anaconda3/envs/python3/lib/python3.6/site-packages/sklearn/metrics/classification.py:1137: UndefinedMetricWarning: Recall and F-score are ill-defined and being set to 0.0 in labels with no true samples.\n",
      "  'recall', 'true', average, warn_for)\n"
     ]
    }
   ],
   "source": [
    "\n",
    "print(metrics.flat_classification_report(\n",
    "    y_test, y_pred, labels=labels, digits=3\n",
    "))"
   ]
  },
  {
   "cell_type": "code",
   "execution_count": 23,
   "metadata": {},
   "outputs": [
    {
     "name": "stdout",
     "output_type": "stream",
     "text": [
      "Fitting 3 folds for each of 50 candidates, totalling 150 fits\n"
     ]
    },
    {
     "name": "stderr",
     "output_type": "stream",
     "text": [
      "[Parallel(n_jobs=-1)]: Done  18 tasks      | elapsed:    1.0s\n",
      "[Parallel(n_jobs=-1)]: Done 150 out of 150 | elapsed:    5.1s finished\n"
     ]
    },
    {
     "name": "stdout",
     "output_type": "stream",
     "text": [
      "CPU times: user 2.11 s, sys: 104 ms, total: 2.22 s\n",
      "Wall time: 5.74 s\n"
     ]
    }
   ],
   "source": [
    "%%time\n",
    "# define fixed parameters and parameters to search\n",
    "crf = sklearn_crfsuite.CRF(\n",
    "    algorithm='lbfgs',\n",
    "    max_iterations=100,\n",
    "    all_possible_transitions=True\n",
    ")\n",
    "params_space = {\n",
    "    'c1': scipy.stats.expon(scale=0.5),\n",
    "    'c2': scipy.stats.expon(scale=0.05),\n",
    "}\n",
    "\n",
    "# use the same metric for evaluation\n",
    "f1_scorer = make_scorer(metrics.flat_recall_score,\n",
    "                        average='weighted', labels=labels)\n",
    "\n",
    "# search\n",
    "rs = RandomizedSearchCV(crf, params_space,\n",
    "                        cv=3,\n",
    "                        verbose=1,\n",
    "                        n_jobs=-1,\n",
    "                        n_iter=50,\n",
    "                        scoring=f1_scorer)\n",
    "rs.fit(X_train, y_train)"
   ]
  },
  {
   "cell_type": "code",
   "execution_count": 24,
   "metadata": {},
   "outputs": [
    {
     "name": "stdout",
     "output_type": "stream",
     "text": [
      "best params: {'c1': 0.3645520754770479, 'c2': 0.10285483449108475}\n",
      "best CV score: 0.5509763679839625\n"
     ]
    }
   ],
   "source": [
    "# crf = rs.best_estimator_\n",
    "print('best params:', rs.best_params_)\n",
    "print('best CV score:', rs.best_score_)\n"
   ]
  },
  {
   "cell_type": "code",
   "execution_count": 25,
   "metadata": {},
   "outputs": [
    {
     "name": "stdout",
     "output_type": "stream",
     "text": [
      "Dark blue => 0.531, dark red => 0.551\n"
     ]
    },
    {
     "data": {
      "image/png": "[encoded data removed]",
      "text/plain": [
       "<Figure size 864x864 with 1 Axes>"
      ]
     },
     "metadata": {},
     "output_type": "display_data"
    }
   ],
   "source": [
    "_x = [s.parameters['c1'] for s in rs.grid_scores_]\n",
    "_y = [s.parameters['c2'] for s in rs.grid_scores_]\n",
    "_c = [s.mean_validation_score for s in rs.grid_scores_]\n",
    "\n",
    "fig = plt.figure()\n",
    "fig.set_size_inches(12, 12)\n",
    "ax = plt.gca()\n",
    "ax.set_yscale('log')\n",
    "ax.set_xscale('log')\n",
    "ax.set_xlabel('C1')\n",
    "ax.set_ylabel('C2')\n",
    "ax.set_title(\"Randomized Hyperparameter Search CV Results (min={:0.3}, max={:0.3})\".format(\n",
    "    min(_c), max(_c)\n",
    "))\n",
    "\n",
    "ax.scatter(_x, _y, c=_c, s=60, alpha=0.9, edgecolors=[0,0,0])\n",
    "\n",
    "print(\"Dark blue => {:0.4}, dark red => {:0.4}\".format(min(_c), max(_c)))"
   ]
  },
  {
   "cell_type": "code",
   "execution_count": 26,
   "metadata": {},
   "outputs": [
    {
     "name": "stdout",
     "output_type": "stream",
     "text": [
      "             precision    recall  f1-score   support\n",
      "\n",
      "      Brand      0.818     0.614     0.701        44\n",
      "   Category      0.621     0.711     0.663        83\n",
      "  ModelName      0.631     0.746     0.684        71\n",
      "\n",
      "avg / total      0.668     0.702     0.679       198\n",
      "\n"
     ]
    }
   ],
   "source": [
    "crf = rs.best_estimator_\n",
    "y_pred = crf.predict(X_test)\n",
    "print(metrics.flat_classification_report(\n",
    "    y_test, y_pred, labels=['Brand', 'Category', 'ModelName'], digits=3\n",
    "))"
   ]
  },
  {
   "cell_type": "code",
   "execution_count": 19,
   "metadata": {},
   "outputs": [
    {
     "data": {
      "text/plain": [
       "(['Brand', 'ScreenSize', '', '', '', ''],\n",
       " ['Brand', 'ScreenSize', '', '', '', 'Category'])"
      ]
     },
     "execution_count": 19,
     "metadata": {},
     "output_type": "execute_result"
    }
   ],
   "source": [
    "y_test[0],y_pred[0]"
   ]
  },
  {
   "cell_type": "code",
   "execution_count": 40,
   "metadata": {},
   "outputs": [
    {
     "name": "stdout",
     "output_type": "stream",
     "text": [
      "             precision    recall  f1-score   support\n",
      "\n",
      "      Brand      0.925     0.928     0.927       613\n",
      "   Category      0.869     0.964     0.914      1199\n",
      "  ModelName      0.908     0.940     0.924       927\n",
      "\n",
      "avg / total      0.895     0.948     0.920      2739\n",
      "\n"
     ]
    }
   ],
   "source": [
    "y_pred2 = crf.predict(X_train)\n",
    "print(metrics.flat_classification_report(\n",
    "    y_train, y_pred2, labels=['Brand', 'Category', 'ModelName'], digits=3\n",
    "))"
   ]
  },
  {
   "cell_type": "code",
   "execution_count": null,
   "metadata": {},
   "outputs": [],
   "source": []
  }
 ],
 "metadata": {
  "kernelspec": {
   "display_name": "conda_python3",
   "language": "python",
   "name": "conda_python3"
  },
  "language_info": {
   "codemirror_mode": {
    "name": "ipython",
    "version": 3
   },
   "file_extension": ".py",
   "mimetype": "text/x-python",
   "name": "python",
   "nbconvert_exporter": "python",
   "pygments_lexer": "ipython3",
   "version": "3.6.5"
  }
 },
 "nbformat": 4,
 "nbformat_minor": 2
}
